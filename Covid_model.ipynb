{
 "cells": [
  {
   "cell_type": "code",
   "execution_count": 4,
   "metadata": {},
   "outputs": [],
   "source": [
    "import numpy as np\n",
    "import cv2\n",
    "import os\n",
    "import matplotlib.pyplot as plt\n",
    "from imutils import paths\n",
    "from sklearn.preprocessing import LabelEncoder, OneHotEncoder\n",
    "from sklearn.model_selection import train_test_split\n",
    "from sklearn.metrics import confusion_matrix\n",
    " \n",
    "import tensorflow\n",
    "import tensorflow.keras as keras\n",
    "from tensorflow.keras.datasets import cifar10\n",
    "from tensorflow.keras.utils import to_categorical\n",
    "from tensorflow.keras.models import Sequential\n",
    "from tensorflow.keras.models import Model\n",
    "from tensorflow.keras.applications import ResNet50V2\n",
    "from tensorflow.keras.applications import VGG16\n",
    "from tensorflow.keras.layers import Conv2D, MaxPooling2D, Input\n",
    "from tensorflow.keras.layers import Dense, Activation, Dropout, Flatten, BatchNormalization\n",
    "from tensorflow.keras.optimizers import Adam"
   ]
  },
  {
   "cell_type": "code",
   "execution_count": 5,
   "metadata": {},
   "outputs": [
    {
     "name": "stdout",
     "output_type": "stream",
     "text": [
      "(160, 224, 224, 3) (40, 224, 224, 3)\n",
      "['covid' 'normal' 'pneumonia_bac']\n"
     ]
    }
   ],
   "source": [
    "# 1) Load training set\n",
    "imagePath = \"./all/train\"\n",
    "imagePaths = list(paths.list_images(imagePath))\n",
    " \n",
    "data = []\n",
    "labels = []\n",
    " \n",
    "# 2) Resize\n",
    "for imagePath in imagePaths:\n",
    "    label = imagePath.split(os.path.sep)[-2]\n",
    "    image = cv2.imread(imagePath)\n",
    "    image = cv2.cvtColor(image, cv2.COLOR_BGR2RGB)\n",
    "    image = cv2.resize(image, (224, 224))\n",
    "    data.append(image)\n",
    "    labels.append(label)\n",
    " \n",
    "# 3) Normalization  \n",
    "data = np.array(data) / 255.0\n",
    "labels = np.array(labels)\n",
    " \n",
    "# 4) One-hot encoding\n",
    "label_encoder = LabelEncoder()\n",
    "integer_encoded = label_encoder.fit_transform(labels)\n",
    "labels = to_categorical(integer_encoded)\n",
    " \n",
    " \n",
    "# 5) Dividing training sets\n",
    "(x_train, x_val, y_train, y_val) = train_test_split(data, labels, test_size=0.20, stratify=labels)\n",
    " \n",
    "# 6) Image shape/label check\n",
    "print(x_train.shape, x_val.shape)\n",
    "print(label_encoder.classes_)"
   ]
  },
  {
   "cell_type": "code",
   "execution_count": 6,
   "metadata": {},
   "outputs": [
    {
     "name": "stdout",
     "output_type": "stream",
     "text": [
      "Model: \"sequential\"\n",
      "_________________________________________________________________\n",
      "Layer (type)                 Output Shape              Param #   \n",
      "=================================================================\n",
      "resnet50v2 (Functional)      (None, 7, 7, 2048)        23564800  \n",
      "_________________________________________________________________\n",
      "batch_normalization (BatchNo (None, 7, 7, 2048)        8192      \n",
      "_________________________________________________________________\n",
      "flatten (Flatten)            (None, 100352)            0         \n",
      "_________________________________________________________________\n",
      "dense (Dense)                (None, 256)               25690368  \n",
      "_________________________________________________________________\n",
      "dense_1 (Dense)              (None, 128)               32896     \n",
      "_________________________________________________________________\n",
      "dense_2 (Dense)              (None, 3)                 387       \n",
      "=================================================================\n",
      "Total params: 49,296,643\n",
      "Trainable params: 25,727,747\n",
      "Non-trainable params: 23,568,896\n",
      "_________________________________________________________________\n"
     ]
    }
   ],
   "source": [
    "model = Sequential()\n",
    "adam_s = Adam(learning_rate = 0.00001)\n",
    " \n",
    "# 1) Load ResNet50 or VGG16\n",
    "#model.add(VGG16(input_shape=(224, 224, 3), include_top=False, weights='imagenet', pooling='average'))\n",
    "model.add(ResNet50V2(input_shape=(224, 224, 3),include_top=False, weights='imagenet',pooling='average'))\n",
    " \n",
    "for layer in model.layers:\n",
    "    layer.trainable = False\n",
    " \n",
    "# 2) Add classifier   \n",
    "model.add(BatchNormalization())\n",
    "model.add(Flatten())\n",
    "model.add(Dense(256, activation='relu'))\n",
    "model.add(Dense(128, activation='relu'))\n",
    "model.add(Dense(3, activation='softmax'))\n",
    " \n",
    "# 3) Compile and visualize our model\n",
    "model.compile(loss='categorical_crossentropy', optimizer=adam_s, metrics=['accuracy'])\n",
    "model.summary()"
   ]
  },
  {
   "cell_type": "code",
   "execution_count": 7,
   "metadata": {},
   "outputs": [
    {
     "name": "stdout",
     "output_type": "stream",
     "text": [
      "Epoch 1/50\n",
      "20/20 [==============================] - 19s 954ms/step - loss: 0.7527 - accuracy: 0.6687 - val_loss: 0.5839 - val_accuracy: 0.7500\n",
      "Epoch 2/50\n",
      "20/20 [==============================] - 17s 862ms/step - loss: 0.0809 - accuracy: 1.0000 - val_loss: 0.3140 - val_accuracy: 0.8500\n",
      "Epoch 3/50\n",
      "20/20 [==============================] - 17s 867ms/step - loss: 0.0230 - accuracy: 1.0000 - val_loss: 0.2447 - val_accuracy: 0.9250\n",
      "Epoch 4/50\n",
      "20/20 [==============================] - 18s 900ms/step - loss: 0.0122 - accuracy: 1.0000 - val_loss: 0.2009 - val_accuracy: 0.9500\n",
      "Epoch 5/50\n",
      "20/20 [==============================] - 19s 925ms/step - loss: 0.0094 - accuracy: 1.0000 - val_loss: 0.1846 - val_accuracy: 0.9500\n",
      "Epoch 6/50\n",
      "20/20 [==============================] - 20s 981ms/step - loss: 0.0066 - accuracy: 1.0000 - val_loss: 0.1754 - val_accuracy: 0.9250\n",
      "Epoch 7/50\n",
      "20/20 [==============================] - 18s 892ms/step - loss: 0.0050 - accuracy: 1.0000 - val_loss: 0.1638 - val_accuracy: 0.9500\n",
      "Epoch 8/50\n",
      "20/20 [==============================] - 18s 900ms/step - loss: 0.0037 - accuracy: 1.0000 - val_loss: 0.1537 - val_accuracy: 0.9500\n",
      "Epoch 9/50\n",
      "20/20 [==============================] - 19s 934ms/step - loss: 0.0034 - accuracy: 1.0000 - val_loss: 0.1484 - val_accuracy: 0.9500\n",
      "Epoch 10/50\n",
      "20/20 [==============================] - 19s 945ms/step - loss: 0.0027 - accuracy: 1.0000 - val_loss: 0.1451 - val_accuracy: 0.9500\n",
      "Epoch 11/50\n",
      "20/20 [==============================] - 22s 1s/step - loss: 0.0030 - accuracy: 1.0000 - val_loss: 0.1438 - val_accuracy: 0.9500\n",
      "Epoch 12/50\n",
      "20/20 [==============================] - 24s 1s/step - loss: 0.0020 - accuracy: 1.0000 - val_loss: 0.1433 - val_accuracy: 0.9500\n",
      "Epoch 13/50\n",
      "20/20 [==============================] - 25s 1s/step - loss: 0.0020 - accuracy: 1.0000 - val_loss: 0.1434 - val_accuracy: 0.9500\n",
      "Epoch 14/50\n",
      "20/20 [==============================] - 28s 1s/step - loss: 0.0019 - accuracy: 1.0000 - val_loss: 0.1434 - val_accuracy: 0.9500\n",
      "Epoch 15/50\n",
      "20/20 [==============================] - 25s 1s/step - loss: 0.0020 - accuracy: 1.0000 - val_loss: 0.1493 - val_accuracy: 0.9500\n",
      "Epoch 16/50\n",
      "20/20 [==============================] - 22s 1s/step - loss: 0.0014 - accuracy: 1.0000 - val_loss: 0.1495 - val_accuracy: 0.9500\n",
      "Epoch 17/50\n",
      "20/20 [==============================] - 25s 1s/step - loss: 0.0013 - accuracy: 1.0000 - val_loss: 0.1503 - val_accuracy: 0.9500\n",
      "Epoch 18/50\n",
      "20/20 [==============================] - 33s 2s/step - loss: 0.0011 - accuracy: 1.0000 - val_loss: 0.1529 - val_accuracy: 0.9500\n",
      "Epoch 19/50\n",
      "20/20 [==============================] - 24s 1s/step - loss: 9.0292e-04 - accuracy: 1.0000 - val_loss: 0.1547 - val_accuracy: 0.9500\n",
      "Epoch 20/50\n",
      "20/20 [==============================] - 23s 1s/step - loss: 9.1294e-04 - accuracy: 1.0000 - val_loss: 0.1567 - val_accuracy: 0.9500\n",
      "Epoch 21/50\n",
      "20/20 [==============================] - 23s 1s/step - loss: 8.5577e-04 - accuracy: 1.0000 - val_loss: 0.1580 - val_accuracy: 0.9500\n",
      "Epoch 22/50\n",
      "20/20 [==============================] - 24s 1s/step - loss: 7.8637e-04 - accuracy: 1.0000 - val_loss: 0.1605 - val_accuracy: 0.9500\n",
      "Epoch 23/50\n",
      "20/20 [==============================] - 20s 986ms/step - loss: 7.5045e-04 - accuracy: 1.0000 - val_loss: 0.1633 - val_accuracy: 0.9500\n",
      "Epoch 24/50\n",
      "20/20 [==============================] - 21s 1s/step - loss: 6.8571e-04 - accuracy: 1.0000 - val_loss: 0.1658 - val_accuracy: 0.9500\n",
      "Epoch 25/50\n",
      "20/20 [==============================] - 20s 1000ms/step - loss: 6.4116e-04 - accuracy: 1.0000 - val_loss: 0.1698 - val_accuracy: 0.9500\n",
      "Epoch 26/50\n",
      "20/20 [==============================] - 22s 1s/step - loss: 7.1090e-04 - accuracy: 1.0000 - val_loss: 0.1721 - val_accuracy: 0.9500\n",
      "Epoch 27/50\n",
      "20/20 [==============================] - 23s 1s/step - loss: 5.5688e-04 - accuracy: 1.0000 - val_loss: 0.1742 - val_accuracy: 0.9500\n",
      "Epoch 28/50\n",
      "20/20 [==============================] - 23s 1s/step - loss: 5.2838e-04 - accuracy: 1.0000 - val_loss: 0.1764 - val_accuracy: 0.9500\n",
      "Epoch 29/50\n",
      "20/20 [==============================] - 20s 990ms/step - loss: 5.9989e-04 - accuracy: 1.0000 - val_loss: 0.1801 - val_accuracy: 0.9500\n",
      "Epoch 30/50\n",
      "20/20 [==============================] - 19s 933ms/step - loss: 5.1765e-04 - accuracy: 1.0000 - val_loss: 0.1829 - val_accuracy: 0.9500\n",
      "Epoch 31/50\n",
      "20/20 [==============================] - 18s 897ms/step - loss: 4.7235e-04 - accuracy: 1.0000 - val_loss: 0.1867 - val_accuracy: 0.9500\n",
      "Epoch 32/50\n",
      "20/20 [==============================] - 18s 908ms/step - loss: 3.8695e-04 - accuracy: 1.0000 - val_loss: 0.1877 - val_accuracy: 0.9500\n",
      "Epoch 33/50\n",
      "20/20 [==============================] - 19s 946ms/step - loss: 3.9091e-04 - accuracy: 1.0000 - val_loss: 0.1890 - val_accuracy: 0.9500\n",
      "Epoch 34/50\n",
      "20/20 [==============================] - 20s 982ms/step - loss: 4.6373e-04 - accuracy: 1.0000 - val_loss: 0.1901 - val_accuracy: 0.9500\n",
      "Epoch 35/50\n",
      "20/20 [==============================] - 22s 1s/step - loss: 4.2199e-04 - accuracy: 1.0000 - val_loss: 0.1932 - val_accuracy: 0.9500\n",
      "Epoch 36/50\n",
      "20/20 [==============================] - 19s 968ms/step - loss: 3.1010e-04 - accuracy: 1.0000 - val_loss: 0.1933 - val_accuracy: 0.9500\n",
      "Epoch 37/50\n",
      "20/20 [==============================] - 18s 890ms/step - loss: 3.8602e-04 - accuracy: 1.0000 - val_loss: 0.1962 - val_accuracy: 0.9500\n",
      "Epoch 38/50\n",
      "20/20 [==============================] - 18s 909ms/step - loss: 3.1546e-04 - accuracy: 1.0000 - val_loss: 0.1973 - val_accuracy: 0.9500\n",
      "Epoch 39/50\n",
      "20/20 [==============================] - 19s 946ms/step - loss: 3.4368e-04 - accuracy: 1.0000 - val_loss: 0.1977 - val_accuracy: 0.9500\n",
      "Epoch 40/50\n",
      "20/20 [==============================] - 18s 888ms/step - loss: 2.7061e-04 - accuracy: 1.0000 - val_loss: 0.1978 - val_accuracy: 0.9500\n",
      "Epoch 41/50\n",
      "20/20 [==============================] - 18s 895ms/step - loss: 3.5575e-04 - accuracy: 1.0000 - val_loss: 0.1987 - val_accuracy: 0.9500\n",
      "Epoch 42/50\n",
      "20/20 [==============================] - 18s 884ms/step - loss: 2.4405e-04 - accuracy: 1.0000 - val_loss: 0.1984 - val_accuracy: 0.9500\n",
      "Epoch 43/50\n",
      "20/20 [==============================] - 18s 922ms/step - loss: 2.8372e-04 - accuracy: 1.0000 - val_loss: 0.2002 - val_accuracy: 0.9500\n",
      "Epoch 44/50\n",
      "20/20 [==============================] - 18s 915ms/step - loss: 2.5104e-04 - accuracy: 1.0000 - val_loss: 0.2008 - val_accuracy: 0.9500\n",
      "Epoch 45/50\n",
      "20/20 [==============================] - 18s 885ms/step - loss: 2.3273e-04 - accuracy: 1.0000 - val_loss: 0.2008 - val_accuracy: 0.9500\n",
      "Epoch 46/50\n",
      "20/20 [==============================] - 18s 889ms/step - loss: 2.2791e-04 - accuracy: 1.0000 - val_loss: 0.2001 - val_accuracy: 0.9500\n",
      "Epoch 47/50\n",
      "20/20 [==============================] - 18s 888ms/step - loss: 2.1116e-04 - accuracy: 1.0000 - val_loss: 0.1993 - val_accuracy: 0.9500\n",
      "Epoch 48/50\n",
      "20/20 [==============================] - 19s 931ms/step - loss: 1.7661e-04 - accuracy: 1.0000 - val_loss: 0.1989 - val_accuracy: 0.9500\n",
      "Epoch 49/50\n",
      "20/20 [==============================] - 18s 893ms/step - loss: 2.2672e-04 - accuracy: 1.0000 - val_loss: 0.1998 - val_accuracy: 0.9500\n",
      "Epoch 50/50\n",
      "20/20 [==============================] - 18s 911ms/step - loss: 1.8331e-04 - accuracy: 1.0000 - val_loss: 0.1986 - val_accuracy: 0.9500\n"
     ]
    }
   ],
   "source": [
    "H = model.fit(x_train, y_train, epochs=50, validation_data=(x_val, y_val), batch_size=8)\n",
    "#H = model.fit(data, labels, epochs=50, validation_split=0.2, batch_size=8)"
   ]
  },
  {
   "cell_type": "code",
   "execution_count": 8,
   "metadata": {},
   "outputs": [
    {
     "name": "stdout",
     "output_type": "stream",
     "text": [
      "[[11  1  0]\n",
      " [ 0 14  0]\n",
      " [ 0  1 13]]\n",
      " \n",
      "accuracy: 0.9500\n",
      "sensitivity: 0.9167\n",
      "specificity: 1.0000\n"
     ]
    },
    {
     "data": {
      "image/png": "[encoded data removed]",
      "text/plain": [
       "<Figure size 432x288 with 1 Axes>"
      ]
     },
     "metadata": {},
     "output_type": "display_data"
    }
   ],
   "source": [
    "# 1) Analysis\n",
    "P = model.predict(x_val, batch_size=8)\n",
    "P = np.argmax(P, axis=1)\n",
    "# print(classification_report(y_val.argmax(axis=1), P, target_names=label_encoder.classes_))\n",
    " \n",
    "# 2) Visualization\n",
    "epochs = 50\n",
    "plt.style.use(\"ggplot\")\n",
    "plt.figure()\n",
    "plt.plot(np.arange(0, epochs), H.history[\"loss\"], label=\"train_loss\")\n",
    "plt.plot(np.arange(0, epochs), H.history[\"val_loss\"], label=\"val_loss\")\n",
    "plt.plot(np.arange(0, epochs), H.history[\"accuracy\"], label=\"train_acc\")\n",
    "plt.plot(np.arange(0, epochs), H.history[\"val_accuracy\"], label=\"val_acc\")\n",
    "plt.title(\"Training Loss and Accuracy\")\n",
    "plt.xlabel(\"Epochs\")\n",
    "plt.legend(loc=\"right\")\n",
    "plt.savefig(\"./s-class-plot-2.png\")\n",
    " \n",
    "# 3) Confusion matrix\n",
    "cm = confusion_matrix(y_val.argmax(axis=1), P)\n",
    "total = sum(sum(cm))\n",
    "acc = (cm[0, 0] + cm[1, 1] + cm[2, 2]) / total\n",
    "sensitivity = cm[0, 0] / (cm[0, 0] + cm[0, 1] + cm[0, 2])\n",
    "specificity = (cm[1, 1] + cm[1, 2] + cm[2, 1] + cm[2, 2]) / (cm[1, 0] + cm[1, 1] + cm[1, 2] + cm[2, 0] + cm[2, 1] + cm[2, 2])\n",
    " \n",
    "# show the confusion matrix, accuracy, sensitivity, and specificity\n",
    "print(cm)\n",
    "print(\" \")\n",
    "print(\"accuracy: {:.4f}\".format(acc))\n",
    "print(\"sensitivity: {:.4f}\".format(sensitivity))\n",
    "print(\"specificity: {:.4f}\".format(specificity))"
   ]
  },
  {
   "cell_type": "code",
   "execution_count": 9,
   "metadata": {},
   "outputs": [
    {
     "name": "stdout",
     "output_type": "stream",
     "text": [
      "[[9 0 0]\n",
      " [0 6 3]\n",
      " [0 0 9]]\n",
      " \n",
      "accuracy: 0.8889\n",
      "sensitivity: 1.0000\n",
      "specificity: 1.0000\n"
     ]
    }
   ],
   "source": [
    "# 1) Load test data\n",
    "imagePathTest = \"./all/test\"\n",
    "imagePathsTest = list(paths.list_images(imagePathTest))\n",
    " \n",
    "dataTest = []\n",
    "labelsTest = []\n",
    " \n",
    "# 2) Resize\n",
    "for imagePathTest in imagePathsTest:\n",
    "    labelTest = imagePathTest.split(os.path.sep)[-2]\n",
    "    imageTest = cv2.imread(imagePathTest)\n",
    "    imageTest = cv2.cvtColor(imageTest, cv2.COLOR_BGR2RGB)\n",
    "    imageTest = cv2.resize(imageTest, (224, 224))\n",
    "    dataTest.append(imageTest)\n",
    "    labelsTest.append(labelTest)\n",
    " \n",
    "# 3) Normalization\n",
    "dataTest = np.array(dataTest) / 255.0\n",
    "labelsTest = np.array(labelsTest)\n",
    " \n",
    "# 4) One-hot encoding\n",
    "label_encoder = LabelEncoder()\n",
    "integer_encoded = label_encoder.fit_transform(labelsTest)\n",
    "labelsTest = to_categorical(integer_encoded)\n",
    " \n",
    "# 5) Prediction\n",
    "x_test = dataTest\n",
    "y_test = labelsTest\n",
    "T = model.predict(x_test, batch_size=8)\n",
    "T = np.argmax(T, axis=1)\n",
    "# print(classification_report(y_test.argmax(axis=1), T, target_names=label_encoder.classes_))\n",
    " \n",
    "# 6) Confusion matrix\n",
    "cmTest = confusion_matrix(y_test.argmax(axis=1), T)\n",
    "totalTest = sum(sum(cmTest))\n",
    "accTest = (cmTest[0, 0] + cmTest[1, 1] + cmTest[2, 2]) / totalTest\n",
    "sensitivityTest = cmTest[0, 0] / (cmTest[0, 0] + cmTest[0, 1] + cmTest[0, 2])\n",
    "specificityTest = (cmTest[1, 1] + cmTest[1, 2] + cmTest[2, 1] + cmTest[2, 2]) / (cmTest[1, 0] + cmTest[1, 1] + cmTest[1, 2] + cmTest[2, 0] + cmTest[2, 1] + cmTest[2, 2])\n",
    " \n",
    "# show the confusion matrix, accuracy, sensitivity, and specificity\n",
    "print(cmTest)\n",
    "print(\" \")\n",
    "print(\"accuracy: {:.4f}\".format(accTest))\n",
    "print(\"sensitivity: {:.4f}\".format(sensitivityTest))\n",
    "print(\"specificity: {:.4f}\".format(specificityTest))"
   ]
  },
  {
   "cell_type": "code",
   "execution_count": 15,
   "metadata": {},
   "outputs": [
    {
     "name": "stdout",
     "output_type": "stream",
     "text": [
      "INFO:tensorflow:Assets written to: covid/version/1\\assets\n"
     ]
    }
   ],
   "source": [
    "tensorflow.keras.models.save_model(model, \"covid/1\")"
   ]
  },
  {
   "cell_type": "code",
   "execution_count": 10,
   "metadata": {},
   "outputs": [],
   "source": [
    "#tensorflow.keras.models.save_model(model, \"covid-19\")"
   ]
  },
  {
   "cell_type": "code",
   "execution_count": 11,
   "metadata": {},
   "outputs": [
    {
     "ename": "NameError",
     "evalue": "name 'make_directory' is not defined",
     "output_type": "error",
     "traceback": [
      "\u001b[1;31m---------------------------------------------------------------------------\u001b[0m",
      "\u001b[1;31mNameError\u001b[0m                                 Traceback (most recent call last)",
      "\u001b[1;32m<ipython-input-11-a025e0567e7c>\u001b[0m in \u001b[0;36m<module>\u001b[1;34m\u001b[0m\n\u001b[0;32m      3\u001b[0m \u001b[1;31m# and stored with the default serving key\u001b[0m\u001b[1;33m\u001b[0m\u001b[1;33m\u001b[0m\u001b[1;33m\u001b[0m\u001b[0m\n\u001b[0;32m      4\u001b[0m \u001b[0mSAVED_MODEL_PATH\u001b[0m \u001b[1;33m=\u001b[0m \u001b[1;34m'./saved_model'\u001b[0m\u001b[1;33m\u001b[0m\u001b[1;33m\u001b[0m\u001b[0m\n\u001b[1;32m----> 5\u001b[1;33m \u001b[0mmake_directory\u001b[0m\u001b[1;33m(\u001b[0m\u001b[0mSAVED_MODEL_PATH\u001b[0m\u001b[1;33m)\u001b[0m\u001b[1;33m\u001b[0m\u001b[1;33m\u001b[0m\u001b[0m\n\u001b[0m\u001b[0;32m      6\u001b[0m \u001b[0mMODEL_DIR\u001b[0m \u001b[1;33m=\u001b[0m \u001b[0mSAVED_MODEL_PATH\u001b[0m\u001b[1;33m\u001b[0m\u001b[1;33m\u001b[0m\u001b[0m\n\u001b[0;32m      7\u001b[0m \u001b[1;33m\u001b[0m\u001b[0m\n",
      "\u001b[1;31mNameError\u001b[0m: name 'make_directory' is not defined"
     ]
    }
   ],
   "source": [
    "# Fetch the Keras session and save the model\n",
    "# The signature definition is defined by the input and output tensors,\n",
    "# and stored with the default serving key\n",
    "SAVED_MODEL_PATH = './saved_model'\n",
    "make_directory(SAVED_MODEL_PATH)\n",
    "MODEL_DIR = SAVED_MODEL_PATH\n",
    "\n",
    "version = 1\n",
    "export_path = os.path.join(MODEL_DIR, str(version))\n",
    "print('export_path = {}\\n'.format(export_path))"
   ]
  },
  {
   "cell_type": "code",
   "execution_count": null,
   "metadata": {},
   "outputs": [],
   "source": [
    "tf.keras.models.save_model(\n",
    "  model,\n",
    "  export_path,\n",
    "  overwrite=True,\n",
    "  include_optimizer=True,\n",
    "  save_format=None,\n",
    "  signatures=None,\n",
    "  options=None\n",
    ")\n",
    "print('\\nSaved model:')"
   ]
  }
 ],
 "metadata": {
  "kernelspec": {
   "display_name": "Python 3",
   "language": "python",
   "name": "python3"
  },
  "language_info": {
   "codemirror_mode": {
    "name": "ipython",
    "version": 3
   },
   "file_extension": ".py",
   "mimetype": "text/x-python",
   "name": "python",
   "nbconvert_exporter": "python",
   "pygments_lexer": "ipython3",
   "version": "3.8.6"
  }
 },
 "nbformat": 4,
 "nbformat_minor": 4
}
