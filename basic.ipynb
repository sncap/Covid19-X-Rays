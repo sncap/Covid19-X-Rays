{
 "cells": [
  {
   "cell_type": "code",
   "execution_count": 1,
   "metadata": {},
   "outputs": [],
   "source": [
    "## import packages\n",
    "import numpy as np\n",
    "import cv2\n",
    "import os\n",
    "import matplotlib.pyplot as plt\n",
    "from imutils import paths\n",
    "from sklearn.preprocessing import LabelEncoder, OneHotEncoder\n",
    "from sklearn.model_selection import train_test_split\n",
    "from sklearn.metrics import confusion_matrix\n",
    "\n",
    "import tensorflow.keras as keras\n",
    "from tensorflow.keras.utils import to_categorical\n",
    "from tensorflow.keras.models import Model, save_model, Sequential\n",
    "from tensorflow.keras.applications import ResNet50V2, VGG16\n",
    "from tensorflow.keras.layers import Conv2D, MaxPooling2D, Input\n",
    "from tensorflow.keras.layers import Dense, Activation, Dropout, Flatten, BatchNormalization\n",
    "from tensorflow.keras.optimizers import Adam"
   ]
  },
  {
   "cell_type": "code",
   "execution_count": 2,
   "metadata": {},
   "outputs": [],
   "source": [
    "## data preprocessing\n",
    "imagePath = \"./all/train\"\n",
    "imagePaths = list(paths.list_images(imagePath))\n",
    "data = []\n",
    "labels = []\n",
    "\n",
    "for imagePath in imagePaths:\n",
    "    label = imagePath.split(os.path.sep)[-2]\n",
    "    image = cv2.imread(imagePath)\n",
    "    image = cv2.cvtColor(image, cv2.COLOR_BGR2RGB)\n",
    "    image = cv2.resize(image, (256, 256))\n",
    "    data.append(image)\n",
    "    labels.append(label)\n",
    "\n",
    "data = np.array(data) / 255.0\n",
    "labels = np.array(labels)\n",
    "label_encoder = LabelEncoder()\n",
    "integer_encoded = label_encoder.fit_transform(labels)\n",
    "labels = to_categorical(integer_encoded)\n",
    "\n",
    "(x_train, x_val, y_train, y_val) = train_test_split(data, labels, test_size=0.20, stratify=labels)"
   ]
  },
  {
   "cell_type": "code",
   "execution_count": null,
   "metadata": {},
   "outputs": [],
   "source": [
    "## AI model training\n",
    "\n",
    "model = Sequential()\n",
    "adam_s = Adam(learning_rate = 0.00001)\n",
    "\n",
    "#model.add(VGG16(input_shape=(224, 224, 3), include_top=False, weights='imagenet', pooling='average'))\n",
    "model.add(ResNet50V2(input_shape=(256, 256, 3),include_top=False, weights='imagenet',pooling='average'))\n",
    "\n",
    "for layer in model.layers:\n",
    "    layer.trainable = False\n",
    "\n",
    "model.add(BatchNormalization())\n",
    "model.add(Flatten())\n",
    "model.add(Dense(128, activation='relu'))\n",
    "model.add(Dense(128, activation='relu'))\n",
    "model.add(Dense(3, activation='softmax'))\n",
    "model.compile(loss='categorical_crossentropy', optimizer=adam_s, metrics=['accuracy'])"
   ]
  },
  {
   "cell_type": "code",
   "execution_count": 16,
   "metadata": {},
   "outputs": [
    {
     "name": "stdout",
     "output_type": "stream",
     "text": [
      "Model: \"sequential\"\n",
      "_________________________________________________________________\n",
      "Layer (type)                 Output Shape              Param #   \n",
      "=================================================================\n",
      "resnet50v2 (Functional)      (None, 8, 8, 2048)        23564800  \n",
      "_________________________________________________________________\n",
      "batch_normalization (BatchNo (None, 8, 8, 2048)        8192      \n",
      "_________________________________________________________________\n",
      "flatten (Flatten)            (None, 131072)            0         \n",
      "_________________________________________________________________\n",
      "dense (Dense)                (None, 128)               16777344  \n",
      "_________________________________________________________________\n",
      "dense_1 (Dense)              (None, 128)               16512     \n",
      "_________________________________________________________________\n",
      "dense_2 (Dense)              (None, 3)                 387       \n",
      "=================================================================\n",
      "Total params: 40,367,235\n",
      "Trainable params: 16,798,339\n",
      "Non-trainable params: 23,568,896\n",
      "_________________________________________________________________\n"
     ]
    }
   ],
   "source": [
    "model.summary()"
   ]
  },
  {
   "cell_type": "code",
   "execution_count": 3,
   "metadata": {},
   "outputs": [
    {
     "name": "stdout",
     "output_type": "stream",
     "text": [
      "Epoch 1/15\n",
      "20/20 [==============================] - 29s 1s/step - loss: 0.9353 - accuracy: 0.5750 - val_loss: 0.8923 - val_accuracy: 0.6750\n",
      "Epoch 2/15\n",
      "20/20 [==============================] - 28s 1s/step - loss: 0.1247 - accuracy: 1.0000 - val_loss: 0.6303 - val_accuracy: 0.7500\n",
      "Epoch 3/15\n",
      "20/20 [==============================] - 28s 1s/step - loss: 0.0408 - accuracy: 1.0000 - val_loss: 0.4896 - val_accuracy: 0.8000\n",
      "Epoch 4/15\n",
      "20/20 [==============================] - 28s 1s/step - loss: 0.0164 - accuracy: 1.0000 - val_loss: 0.4287 - val_accuracy: 0.8250\n",
      "Epoch 5/15\n",
      "20/20 [==============================] - 27s 1s/step - loss: 0.0102 - accuracy: 1.0000 - val_loss: 0.3902 - val_accuracy: 0.8250\n",
      "Epoch 6/15\n",
      "20/20 [==============================] - 28s 1s/step - loss: 0.0081 - accuracy: 1.0000 - val_loss: 0.3634 - val_accuracy: 0.8750\n",
      "Epoch 7/15\n",
      "20/20 [==============================] - 28s 1s/step - loss: 0.0055 - accuracy: 1.0000 - val_loss: 0.3479 - val_accuracy: 0.8750\n",
      "Epoch 8/15\n",
      "20/20 [==============================] - 27s 1s/step - loss: 0.0046 - accuracy: 1.0000 - val_loss: 0.3301 - val_accuracy: 0.8750\n",
      "Epoch 9/15\n",
      "20/20 [==============================] - 27s 1s/step - loss: 0.0040 - accuracy: 1.0000 - val_loss: 0.3209 - val_accuracy: 0.8750\n",
      "Epoch 10/15\n",
      "20/20 [==============================] - 27s 1s/step - loss: 0.0033 - accuracy: 1.0000 - val_loss: 0.3085 - val_accuracy: 0.8750\n",
      "Epoch 11/15\n",
      "20/20 [==============================] - 26s 1s/step - loss: 0.0032 - accuracy: 1.0000 - val_loss: 0.3038 - val_accuracy: 0.9000\n",
      "Epoch 12/15\n",
      "20/20 [==============================] - 26s 1s/step - loss: 0.0024 - accuracy: 1.0000 - val_loss: 0.3028 - val_accuracy: 0.9000\n",
      "Epoch 13/15\n",
      "20/20 [==============================] - 27s 1s/step - loss: 0.0020 - accuracy: 1.0000 - val_loss: 0.3020 - val_accuracy: 0.9000\n",
      "Epoch 14/15\n",
      "20/20 [==============================] - 27s 1s/step - loss: 0.0020 - accuracy: 1.0000 - val_loss: 0.3023 - val_accuracy: 0.9000\n",
      "Epoch 15/15\n",
      "20/20 [==============================] - 27s 1s/step - loss: 0.0017 - accuracy: 1.0000 - val_loss: 0.3011 - val_accuracy: 0.9000\n"
     ]
    }
   ],
   "source": [
    "H = model.fit(x_train, y_train, epochs=15, validation_data=(x_val, y_val), batch_size=8)\n",
    "#H = model.fit(data, labels, epochs=50, validation_split=0.2, batch_size=8)"
   ]
  },
  {
   "cell_type": "code",
   "execution_count": 5,
   "metadata": {},
   "outputs": [
    {
     "name": "stdout",
     "output_type": "stream",
     "text": [
      "INFO:tensorflow:Assets written to: covid/1/assets\n"
     ]
    }
   ],
   "source": [
    "## save AI model\n",
    "save_model(model, \"covid/1\")"
   ]
  },
  {
   "cell_type": "code",
   "execution_count": 8,
   "metadata": {},
   "outputs": [
    {
     "name": "stdout",
     "output_type": "stream",
     "text": [
      "Requirement already satisfied: tqdm in /home/jae0_yang/virtualenv/tf2-gpu/lib/python3.6/site-packages (4.54.0)\n",
      "[INFO] loading untrained test images...\n",
      "27\n",
      "[[0. 0. 1.]\n",
      " [0. 0. 1.]\n",
      " [0. 0. 1.]\n",
      " [0. 0. 1.]\n",
      " [0. 0. 1.]\n",
      " [0. 0. 1.]\n",
      " [0. 0. 1.]\n",
      " [0. 0. 1.]\n",
      " [0. 0. 1.]\n",
      " [0. 1. 0.]\n",
      " [0. 1. 0.]\n",
      " [0. 1. 0.]\n",
      " [0. 1. 0.]\n",
      " [0. 1. 0.]\n",
      " [0. 1. 0.]\n",
      " [0. 1. 0.]\n",
      " [0. 1. 0.]\n",
      " [0. 1. 0.]\n",
      " [1. 0. 0.]\n",
      " [1. 0. 0.]\n",
      " [1. 0. 0.]\n",
      " [1. 0. 0.]\n",
      " [1. 0. 0.]\n",
      " [1. 0. 0.]\n",
      " [1. 0. 0.]\n",
      " [1. 0. 0.]\n",
      " [1. 0. 0.]]\n"
     ]
    }
   ],
   "source": [
    "!pip install tqdm\n",
    "print(\"[INFO] loading untrained test images...\")\n",
    "imagePathTest = \"./all/test\"\n",
    "imagePathsTest = list(paths.list_images(imagePathTest))\n",
    "print(len(imagePathsTest))\n",
    "\n",
    "dataTest = []\n",
    "labelsTest = []\n",
    "\n",
    "# loop over the image paths\n",
    "for imagePathTest in imagePathsTest:\n",
    "\n",
    "    # extract the class label from the filename\n",
    "\t  labelTest = imagePathTest.split(os.path.sep)[-2]\n",
    "  \n",
    "\t  # load the image, swap color channels, and resize it to be a fixed\n",
    "\t  # 256x256 pixels while ignoring aspect ratio\n",
    "\t  imageTest = cv2.imread(imagePathTest)\n",
    "\t  imageTest = cv2.cvtColor(imageTest, cv2.COLOR_BGR2RGB)\n",
    "\t  imageTest = cv2.resize(imageTest, (256, 256))\n",
    "\n",
    "\t  # update the data and labels lists, respectively\n",
    "\t  dataTest.append(imageTest)\n",
    "\t  labelsTest.append(labelTest)\n",
    "# convert the data and labels to NumPy arrays while scaling the pixel\n",
    "# intensities to the range [0, 255]\n",
    "dataTest = np.array(dataTest) / 255.0\n",
    "labelsTest = np.array(labelsTest)\n",
    "\n",
    "\n",
    "# perform one-hot encoding on the labels\n",
    "from sklearn.preprocessing import LabelEncoder, OneHotEncoder\n",
    "label_encoder = LabelEncoder()\n",
    "integer_encoded = label_encoder.fit_transform(labelsTest)\n",
    "labelsTest = to_categorical(integer_encoded)\n",
    "\n",
    "print(labelsTest)"
   ]
  },
  {
   "cell_type": "code",
   "execution_count": null,
   "metadata": {},
   "outputs": [],
   "source": [
    "# Helper libraries\n",
    "import numpy as np\n",
    "import matplotlib.pyplot as plt\n",
    "import os\n",
    "import subprocess\n",
    "import cv2\n",
    "import json\n",
    "import requests\n",
    "from tqdm import tqdm"
   ]
  },
  {
   "cell_type": "code",
   "execution_count": 41,
   "metadata": {},
   "outputs": [
    {
     "name": "stdout",
     "output_type": "stream",
     "text": [
      "(256, 256, 3)\n"
     ]
    }
   ],
   "source": [
    "#get some sample data\n",
    "sample_test_data = dataTest[2]\n",
    "sample_test_labels = labelsTest[2]\n",
    "\n",
    "print(sample_test_data.shape)"
   ]
  },
  {
   "cell_type": "code",
   "execution_count": 42,
   "metadata": {},
   "outputs": [
    {
     "name": "stdout",
     "output_type": "stream",
     "text": [
      "(1, 256, 256, 3)\n"
     ]
    }
   ],
   "source": [
    "class_names = ['covid', 'normal', 'pneumonia_bac']\n",
    "\n",
    "# pre-process data \n",
    "#sample_test_data_processed = np.expand_dims(sample_test_data / 255., axis=3)\n",
    "\n",
    "sample_test_data = sample_test_data.reshape(-1,256,256,3)\n",
    "print(sample_test_data.shape)"
   ]
  },
  {
   "cell_type": "code",
   "execution_count": 43,
   "metadata": {},
   "outputs": [
    {
     "data": {
      "text/plain": [
       "array([[7.0699543e-04, 4.7419232e-04, 9.9881881e-01]], dtype=float32)"
      ]
     },
     "execution_count": 43,
     "metadata": {},
     "output_type": "execute_result"
    }
   ],
   "source": [
    "model.predict(sample_test_data)"
   ]
  },
  {
   "cell_type": "code",
   "execution_count": null,
   "metadata": {},
   "outputs": [],
   "source": []
  },
  {
   "cell_type": "code",
   "execution_count": 51,
   "metadata": {},
   "outputs": [
    {
     "ename": "TypeError",
     "evalue": "dump() missing 1 required positional argument: 'fp'",
     "output_type": "error",
     "traceback": [
      "\u001b[0;31m---------------------------------------------------------------------------\u001b[0m",
      "\u001b[0;31mTypeError\u001b[0m                                 Traceback (most recent call last)",
      "\u001b[0;32m<ipython-input-51-e30257ed018e>\u001b[0m in \u001b[0;36m<module>\u001b[0;34m\u001b[0m\n\u001b[1;32m      2\u001b[0m \u001b[0;34m\u001b[0m\u001b[0m\n\u001b[1;32m      3\u001b[0m data = json.dump({\"content-type\": \"application/json\", \"signature_name\": \"serving_default\", \n\u001b[0;32m----> 4\u001b[0;31m                    \"instances\": sample_test_data.tolist()})\n\u001b[0m",
      "\u001b[0;31mTypeError\u001b[0m: dump() missing 1 required positional argument: 'fp'"
     ]
    }
   ],
   "source": [
    "data = json.dumps({\"content-type\": \"application/json\", \"signature_name\": \"serving_default\", \n",
    "                   \"instances\": sample_test_data.tolist()})"
   ]
  },
  {
   "cell_type": "code",
   "execution_count": 50,
   "metadata": {},
   "outputs": [
    {
     "name": "stdout",
     "output_type": "stream",
     "text": [
      "[0.00070699543, 0.000474192319, 0.998818815]\n"
     ]
    }
   ],
   "source": [
    "# create payload\n",
    "#headers = {\"content-type\": \"application/json\"}\n",
    "data = json.dumps({\"content-type\": \"application/json\", \"signature_name\": \"serving_default\", \n",
    "                   \"instances\": sample_test_data.tolist()})\n",
    "\n",
    "json_response = requests.post('http://127.0.0.1:8501/v1/models/covid:predict', data=data)\n",
    "predictions = json.loads(json_response.text)['predictions']\n",
    "print(predictions[0])"
   ]
  },
  {
   "cell_type": "code",
   "execution_count": 52,
   "metadata": {},
   "outputs": [],
   "source": [
    "with open(\"please.json\", \"w\") as text_file:\n",
    "    text_file.write(\"%s\" % data)"
   ]
  },
  {
   "cell_type": "code",
   "execution_count": 53,
   "metadata": {},
   "outputs": [
    {
     "name": "stdout",
     "output_type": "stream",
     "text": [
      "{\r\n",
      "    \"predictions\": [[0.00070699543, 0.000474192319, 0.998818815]\r\n",
      "    ]\r\n",
      "}"
     ]
    }
   ],
   "source": [
    "!curl 127.0.0.1:8501/v1/models/covid:predict -X POST -d@please.json"
   ]
  },
  {
   "cell_type": "code",
   "execution_count": null,
   "metadata": {},
   "outputs": [],
   "source": []
  },
  {
   "cell_type": "code",
   "execution_count": null,
   "metadata": {},
   "outputs": [],
   "source": []
  }
 ],
 "metadata": {
  "kernelspec": {
   "display_name": "Python 3",
   "language": "python",
   "name": "python3"
  },
  "language_info": {
   "codemirror_mode": {
    "name": "ipython",
    "version": 3
   },
   "file_extension": ".py",
   "mimetype": "text/x-python",
   "name": "python",
   "nbconvert_exporter": "python",
   "pygments_lexer": "ipython3",
   "version": "3.6.9"
  }
 },
 "nbformat": 4,
 "nbformat_minor": 4
}
